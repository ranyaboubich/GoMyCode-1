{
  "nbformat": 4,
  "nbformat_minor": 0,
  "metadata": {
    "colab": {
      "name": "Data Visualization checkpoint.ipynb",
      "provenance": [],
      "collapsed_sections": []
    },
    "kernelspec": {
      "name": "python3",
      "display_name": "Python 3"
    }
  },
  "cells": [
    {
      "cell_type": "markdown",
      "metadata": {
        "id": "KQd4PWY37YOF",
        "colab_type": "text"
      },
      "source": [
        "Preprocessing part"
      ]
    },
    {
      "cell_type": "code",
      "metadata": {
        "id": "kGD_zJ5f2iUY",
        "colab_type": "code",
        "colab": {
          "base_uri": "https://localhost:8080/",
          "height": 309
        },
        "outputId": "868e83c6-7e28-4fc5-96ce-d995a9b87dfa"
      },
      "source": [
        "import pandas as pd\n",
        "import numpy as np\n",
        "import seaborn as sns \n",
        "import matplotlib.pyplot as plt\n",
        "\n",
        "df = pd.read_csv(r'titanic-passengers.csv', delimiter=';')\n",
        "print (df)\n"
      ],
      "execution_count": 43,
      "outputs": [
        {
          "output_type": "stream",
          "text": [
            "     PassengerId Survived  Pclass  ...     Fare  Cabin  Embarked\n",
            "0            343       No       2  ...  13.0000    NaN         S\n",
            "1             76       No       3  ...   7.6500  F G73         S\n",
            "2            641       No       3  ...   7.8542    NaN         S\n",
            "3            568       No       3  ...  21.0750    NaN         S\n",
            "4            672       No       1  ...  52.0000    B71         S\n",
            "..           ...      ...     ...  ...      ...    ...       ...\n",
            "886           10      Yes       2  ...  30.0708    NaN         C\n",
            "887           61       No       3  ...   7.2292    NaN         C\n",
            "888          535       No       3  ...   8.6625    NaN         S\n",
            "889          102       No       3  ...   7.8958    NaN         S\n",
            "890          428      Yes       2  ...  26.0000    NaN         S\n",
            "\n",
            "[891 rows x 12 columns]\n"
          ],
          "name": "stdout"
        },
        {
          "output_type": "stream",
          "text": [
            "/usr/local/lib/python3.6/dist-packages/statsmodels/tools/_testing.py:19: FutureWarning: pandas.util.testing is deprecated. Use the functions in the public API at pandas.testing instead.\n",
            "  import pandas.util.testing as tm\n"
          ],
          "name": "stderr"
        }
      ]
    },
    {
      "cell_type": "code",
      "metadata": {
        "id": "r7-qlGO15mEj",
        "colab_type": "code",
        "colab": {
          "base_uri": "https://localhost:8080/",
          "height": 153
        },
        "outputId": "20c473cd-f3ea-4903-e0f4-2acb4e7b4ef9"
      },
      "source": [
        "print( df.head())"
      ],
      "execution_count": 44,
      "outputs": [
        {
          "output_type": "stream",
          "text": [
            "   PassengerId Survived  Pclass  ...     Fare  Cabin  Embarked\n",
            "0          343       No       2  ...  13.0000    NaN         S\n",
            "1           76       No       3  ...   7.6500  F G73         S\n",
            "2          641       No       3  ...   7.8542    NaN         S\n",
            "3          568       No       3  ...  21.0750    NaN         S\n",
            "4          672       No       1  ...  52.0000    B71         S\n",
            "\n",
            "[5 rows x 12 columns]\n"
          ],
          "name": "stdout"
        }
      ]
    },
    {
      "cell_type": "code",
      "metadata": {
        "id": "zOn9sXAM681U",
        "colab_type": "code",
        "colab": {
          "base_uri": "https://localhost:8080/",
          "height": 255
        },
        "outputId": "936155cf-016a-4ea5-a11c-1f6f5ebb8719"
      },
      "source": [
        "print( df.isnull())"
      ],
      "execution_count": 45,
      "outputs": [
        {
          "output_type": "stream",
          "text": [
            "     PassengerId  Survived  Pclass   Name  ...  Ticket   Fare  Cabin  Embarked\n",
            "0          False     False   False  False  ...   False  False   True     False\n",
            "1          False     False   False  False  ...   False  False  False     False\n",
            "2          False     False   False  False  ...   False  False   True     False\n",
            "3          False     False   False  False  ...   False  False   True     False\n",
            "4          False     False   False  False  ...   False  False  False     False\n",
            "..           ...       ...     ...    ...  ...     ...    ...    ...       ...\n",
            "886        False     False   False  False  ...   False  False   True     False\n",
            "887        False     False   False  False  ...   False  False   True     False\n",
            "888        False     False   False  False  ...   False  False   True     False\n",
            "889        False     False   False  False  ...   False  False   True     False\n",
            "890        False     False   False  False  ...   False  False   True     False\n",
            "\n",
            "[891 rows x 12 columns]\n"
          ],
          "name": "stdout"
        }
      ]
    },
    {
      "cell_type": "code",
      "metadata": {
        "id": "R79ePnKO9C-c",
        "colab_type": "code",
        "colab": {
          "base_uri": "https://localhost:8080/",
          "height": 357
        },
        "outputId": "0d31737a-be80-4f4c-917d-e08c75a0c759"
      },
      "source": [
        "print(df.info())"
      ],
      "execution_count": 46,
      "outputs": [
        {
          "output_type": "stream",
          "text": [
            "<class 'pandas.core.frame.DataFrame'>\n",
            "RangeIndex: 891 entries, 0 to 890\n",
            "Data columns (total 12 columns):\n",
            " #   Column       Non-Null Count  Dtype  \n",
            "---  ------       --------------  -----  \n",
            " 0   PassengerId  891 non-null    int64  \n",
            " 1   Survived     891 non-null    object \n",
            " 2   Pclass       891 non-null    int64  \n",
            " 3   Name         891 non-null    object \n",
            " 4   Sex          891 non-null    object \n",
            " 5   Age          714 non-null    float64\n",
            " 6   SibSp        891 non-null    int64  \n",
            " 7   Parch        891 non-null    int64  \n",
            " 8   Ticket       891 non-null    object \n",
            " 9   Fare         891 non-null    float64\n",
            " 10  Cabin        204 non-null    object \n",
            " 11  Embarked     889 non-null    object \n",
            "dtypes: float64(2), int64(4), object(6)\n",
            "memory usage: 83.7+ KB\n",
            "None\n"
          ],
          "name": "stdout"
        }
      ]
    },
    {
      "cell_type": "code",
      "metadata": {
        "id": "YiY1t3hLl9OC",
        "colab_type": "code",
        "colab": {
          "base_uri": "https://localhost:8080/",
          "height": 238
        },
        "outputId": "f5459b13-b032-4e47-8406-924107334414"
      },
      "source": [
        "print ( df.isnull().sum())"
      ],
      "execution_count": 47,
      "outputs": [
        {
          "output_type": "stream",
          "text": [
            "PassengerId      0\n",
            "Survived         0\n",
            "Pclass           0\n",
            "Name             0\n",
            "Sex              0\n",
            "Age            177\n",
            "SibSp            0\n",
            "Parch            0\n",
            "Ticket           0\n",
            "Fare             0\n",
            "Cabin          687\n",
            "Embarked         2\n",
            "dtype: int64\n"
          ],
          "name": "stdout"
        }
      ]
    },
    {
      "cell_type": "code",
      "metadata": {
        "id": "Dd6kuh4Bhi47",
        "colab_type": "code",
        "colab": {
          "base_uri": "https://localhost:8080/",
          "height": 34
        },
        "outputId": "5191b557-e3cc-4e59-ac13-244c947dfc02"
      },
      "source": [
        "print ( df.isnull().sum().sum())\n"
      ],
      "execution_count": 48,
      "outputs": [
        {
          "output_type": "stream",
          "text": [
            "866\n"
          ],
          "name": "stdout"
        }
      ]
    },
    {
      "cell_type": "markdown",
      "metadata": {
        "id": "OT9rMH0X-Hsn",
        "colab_type": "text"
      },
      "source": [
        "# This function shows you some basic descriptive statistics for all numeric columns\n",
        "\n",
        ".describe() only analyzes numeric columns by default, but you can provide other data types if you use the include parameter"
      ]
    },
    {
      "cell_type": "code",
      "metadata": {
        "id": "ZBUCBMkk8WGD",
        "colab_type": "code",
        "colab": {
          "base_uri": "https://localhost:8080/",
          "height": 170
        },
        "outputId": "113a3a19-7153-4d5a-932f-ee51fcebbae6"
      },
      "source": [
        "print( df.describe())"
      ],
      "execution_count": 49,
      "outputs": [
        {
          "output_type": "stream",
          "text": [
            "       PassengerId      Pclass         Age       SibSp       Parch        Fare\n",
            "count   891.000000  891.000000  714.000000  891.000000  891.000000  891.000000\n",
            "mean    446.000000    2.308642   29.699118    0.523008    0.381594   32.204208\n",
            "std     257.353842    0.836071   14.526497    1.102743    0.806057   49.693429\n",
            "min       1.000000    1.000000    0.420000    0.000000    0.000000    0.000000\n",
            "25%     223.500000    2.000000   20.125000    0.000000    0.000000    7.910400\n",
            "50%     446.000000    3.000000   28.000000    0.000000    0.000000   14.454200\n",
            "75%     668.500000    3.000000   38.000000    1.000000    0.000000   31.000000\n",
            "max     891.000000    3.000000   80.000000    8.000000    6.000000  512.329200\n"
          ],
          "name": "stdout"
        }
      ]
    },
    {
      "cell_type": "code",
      "metadata": {
        "id": "aw_Mfd5Q94LS",
        "colab_type": "code",
        "colab": {
          "base_uri": "https://localhost:8080/",
          "height": 255
        },
        "outputId": "69c91a7f-2dad-4786-8c6d-82897ad5d9ce"
      },
      "source": [
        "print ( df.fillna(0) )"
      ],
      "execution_count": 50,
      "outputs": [
        {
          "output_type": "stream",
          "text": [
            "     PassengerId Survived  Pclass  ...     Fare  Cabin  Embarked\n",
            "0            343       No       2  ...  13.0000      0         S\n",
            "1             76       No       3  ...   7.6500  F G73         S\n",
            "2            641       No       3  ...   7.8542      0         S\n",
            "3            568       No       3  ...  21.0750      0         S\n",
            "4            672       No       1  ...  52.0000    B71         S\n",
            "..           ...      ...     ...  ...      ...    ...       ...\n",
            "886           10      Yes       2  ...  30.0708      0         C\n",
            "887           61       No       3  ...   7.2292      0         C\n",
            "888          535       No       3  ...   8.6625      0         S\n",
            "889          102       No       3  ...   7.8958      0         S\n",
            "890          428      Yes       2  ...  26.0000      0         S\n",
            "\n",
            "[891 rows x 12 columns]\n"
          ],
          "name": "stdout"
        }
      ]
    },
    {
      "cell_type": "code",
      "metadata": {
        "id": "HpKQRKhYxozG",
        "colab_type": "code",
        "colab": {}
      },
      "source": [
        ""
      ],
      "execution_count": 50,
      "outputs": []
    },
    {
      "cell_type": "markdown",
      "metadata": {
        "id": "e8SEEehlfLsN",
        "colab_type": "text"
      },
      "source": [
        "Visualization part"
      ]
    },
    {
      "cell_type": "markdown",
      "metadata": {
        "id": "ZyBoAfsHzOa2",
        "colab_type": "text"
      },
      "source": [
        "Visualize the correlation between Sex and Age "
      ]
    },
    {
      "cell_type": "code",
      "metadata": {
        "id": "SkZLTbGkUqrj",
        "colab_type": "code",
        "colab": {
          "base_uri": "https://localhost:8080/",
          "height": 391
        },
        "outputId": "22eedda6-bb09-4031-8588-82ff693adf02"
      },
      "source": [
        "df['PassengerId'].plot(kind='density', figsize=(14,6))"
      ],
      "execution_count": 51,
      "outputs": [
        {
          "output_type": "execute_result",
          "data": {
            "text/plain": [
              "<matplotlib.axes._subplots.AxesSubplot at 0x7fd376248ba8>"
            ]
          },
          "metadata": {
            "tags": []
          },
          "execution_count": 51
        },
        {
          "output_type": "display_data",
          "data": {
            "image/png": "[encoded data removed]",
            "text/plain": [
              "<Figure size 1008x432 with 1 Axes>"
            ]
          },
          "metadata": {
            "tags": [],
            "needs_background": "light"
          }
        }
      ]
    },
    {
      "cell_type": "code",
      "metadata": {
        "id": "nm5jf6f-6kNI",
        "colab_type": "code",
        "colab": {
          "base_uri": "https://localhost:8080/",
          "height": 584
        },
        "outputId": "0e8f923d-9311-43ac-fd1f-63e064207bda"
      },
      "source": [
        "import matplotlib.pyplot as plt\n",
        "\n",
        "def plot_correlation_map( df ):\n",
        "    corr = df.corr()\n",
        "    s , ax = plt.subplots( figsize =( 12 , 10 ) )\n",
        "    cmap = sns.diverging_palette( 220 , 10 , as_cmap = True )\n",
        "    s = sns.heatmap(\n",
        "        corr, \n",
        "        cmap = cmap,\n",
        "        square=True, \n",
        "        cbar_kws={ 'shrink' : .9 }, \n",
        "        ax=ax, \n",
        "        annot = True, \n",
        "        annot_kws = { 'fontsize' : 12 }\n",
        "        )\n",
        "plot_correlation_map( df )\n",
        "    "
      ],
      "execution_count": 52,
      "outputs": [
        {
          "output_type": "display_data",
          "data": {
            "image/png": "[encoded data removed]",
            "text/plain": [
              "<Figure size 864x720 with 2 Axes>"
            ]
          },
          "metadata": {
            "tags": [],
            "needs_background": "light"
          }
        }
      ]
    },
    {
      "cell_type": "markdown",
      "metadata": {
        "id": "zGMo9lGxJqRP",
        "colab_type": "text"
      },
      "source": [
        "\n",
        "\n",
        "a medium correlation between SibSp and Parch =0.41\n",
        "/\n",
        "a medium negative correlation between Pclass and Fare =-0.55\n",
        "\n"
      ]
    },
    {
      "cell_type": "markdown",
      "metadata": {
        "id": "SAz_3v0UPN4O",
        "colab_type": "text"
      },
      "source": [
        "Use the groupby function combined with the mean() to view the relation between Pclass and survived "
      ]
    },
    {
      "cell_type": "code",
      "metadata": {
        "id": "sHF8hB0x__6a",
        "colab_type": "code",
        "colab": {
          "base_uri": "https://localhost:8080/",
          "height": 85
        },
        "outputId": "3ebec85f-3c3b-498d-b9b1-2cfee7d2ed24"
      },
      "source": [
        "df.groupby(by='Survived')['Pclass'].mean()"
      ],
      "execution_count": 53,
      "outputs": [
        {
          "output_type": "execute_result",
          "data": {
            "text/plain": [
              "Survived\n",
              "No     2.531876\n",
              "Yes    1.950292\n",
              "Name: Pclass, dtype: float64"
            ]
          },
          "metadata": {
            "tags": []
          },
          "execution_count": 53
        }
      ]
    },
    {
      "cell_type": "code",
      "metadata": {
        "id": "8fdBgY0EO-He",
        "colab_type": "code",
        "colab": {}
      },
      "source": [
        "Title_Dictionary = {\n",
        "                    \"Capt\":       \"Officer\",\n",
        "                    \"Col\":        \"Officer\",\n",
        "                    \"Major\":      \"Officer\",\n",
        "                      \"Dr\":         \"Officer\",\n",
        "                    \"Rev\":        \"Officer\",\n",
        "                    \"Jonkheer\":   \"Royalty\",\n",
        "                    \"Don\":        \"Royalty\",\n",
        "                    \"Sir\" :       \"Royalty\",\n",
        "                   \"Lady\" :      \"Royalty\",\n",
        "                  \"the Countess\": \"Royalty\",\n",
        "                    \"Dona\":       \"Royalty\",\n",
        "                    \"Mme\":        \"Miss\",\n",
        "                    \"Mlle\":       \"Miss\",\n",
        "                    \"Miss\" :      \"Miss\",\n",
        "                    \"Ms\":         \"Mrs\",\n",
        "                    \"Mr\" :        \"Mrs\",\n",
        "                    \"Mrs\" :       \"Mrs\",\n",
        "                    \"Master\" :    \"Master\"\n",
        "                    }"
      ],
      "execution_count": 57,
      "outputs": []
    },
    {
      "cell_type": "code",
      "metadata": {
        "id": "jovG9P_PzT0n",
        "colab_type": "code",
        "colab": {}
      },
      "source": [
        "df['Title']=df.Name.str.extract(' ([A-Za-z]+).')\n",
        "df"
      ],
      "execution_count": null,
      "outputs": []
    },
    {
      "cell_type": "code",
      "metadata": {
        "id": "GLAieeUPPXie",
        "colab_type": "code",
        "colab": {}
      },
      "source": [
        "df=df.drop(['Name'], axis=1)\n"
      ],
      "execution_count": null,
      "outputs": []
    },
    {
      "cell_type": "code",
      "metadata": {
        "id": "h1PPTERbU-AI",
        "colab_type": "code",
        "colab": {}
      },
      "source": [
        "df"
      ],
      "execution_count": null,
      "outputs": []
    },
    {
      "cell_type": "code",
      "metadata": {
        "id": "wF1ssMB-Wrlr",
        "colab_type": "code",
        "colab": {}
      },
      "source": [
        "Title_Dictionary = {\n",
        "                    \"Capt\":       \"Officer\",\n",
        "                    \"Col\":        \"Officer\",\n",
        "                    \"Major\":      \"Officer\",\n",
        "                      \"Dr\":         \"Officer\",\n",
        "                    \"Rev\":        \"Officer\" ,\n",
        "                    \"Jonkheer\":   \"Royalty\",\n",
        "                    \"Don\":        \"Royalty\",\n",
        "                    \"Sir\" :       \"Royalty\",\n",
        "                   \"Lady\" :      \"Royalty\" ,\n",
        "                \"The Countess\":   \"Royalty\",\n",
        "                    \"Dona\":       \"Royalty\",\n",
        "                    \"Mme\":        \"Miss\",\n",
        "                    \"Mlle\":       \"Miss\",\n",
        "                    \"Miss\" :      \"Miss\",\n",
        "                    \"Ms\":         \"Mrs\",\n",
        "                    \"Mr\" :        \"Mrs\",\n",
        "                    \"Mrs\" :       \"Mrs\" ,\n",
        "                    \"Master\" :    \"Master\"\n",
        "                    } \n",
        "df.replace({\"Title\": Title_Dictionary}) "
      ],
      "execution_count": null,
      "outputs": []
    },
    {
      "cell_type": "code",
      "metadata": {
        "id": "zAdADVXOdHD0",
        "colab_type": "code",
        "colab": {}
      },
      "source": [
        "from sklearn.preprocessing import LabelEncoder\n",
        "encoder=LabelEncoder()\n",
        "df['Title']=encoder.fit_transform(df['Title'])\n",
        "df"
      ],
      "execution_count": null,
      "outputs": []
    },
    {
      "cell_type": "code",
      "metadata": {
        "id": "RDqXa_E3e5gH",
        "colab_type": "code",
        "colab": {}
      },
      "source": [
        "grid= sns.FacetGrid(df, col='Survived')\n",
        "grid.map(sns.barplot,'Title','Age')\n",
        "grid.set_xticklabels(rotation = 25)\n",
        "grid.add_legend()"
      ],
      "execution_count": null,
      "outputs": []
    },
    {
      "cell_type": "code",
      "metadata": {
        "id": "sTJQtXta5Ep0",
        "colab_type": "code",
        "colab": {}
      },
      "source": [
        "sns.distplot(df[\"FamilySize\"], bins=1,hist=True,kde=True)"
      ],
      "execution_count": null,
      "outputs": []
    },
    {
      "cell_type": "code",
      "metadata": {
        "id": "Vi7hEmc87jTs",
        "colab_type": "code",
        "colab": {}
      },
      "source": [
        "plt.xlabel(\"FamilySize\")\n",
        "df['FamilySize'].plot.hist()"
      ],
      "execution_count": null,
      "outputs": []
    },
    {
      "cell_type": "code",
      "metadata": {
        "id": "pTDIRwt8fOlW",
        "colab_type": "code",
        "colab": {}
      },
      "source": [
        "df['FamilySize']=df['Parch']+df['SibSp']\n",
        "df"
      ],
      "execution_count": null,
      "outputs": []
    },
    {
      "cell_type": "code",
      "metadata": {
        "id": "I57WWUxs9h5e",
        "colab_type": "code",
        "colab": {
          "base_uri": "https://localhost:8080/",
          "height": 34
        },
        "outputId": "200e534d-0698-4063-e53b-6a31712fcabf"
      },
      "source": [
        "from sklearn.model_selection import train_test_split\n",
        "from sklearn.linear_model import LogisticRegression\n",
        "from sklearn import metrics\n",
        "\n",
        "#features extraction\n",
        "x=df[[\"PassengerId\",\"Pclass\"]]\n",
        "y=df[\"Survived\"]\n",
        "\n",
        "x_train,x_test,y_train,y_test=train_test_split(x,y,test_size=0.35,random_state=40) #splitting data with test size of 35%\n",
        "\n",
        "logreg = LogisticRegression()   #build our logistic model\n",
        "logreg.fit(x_train, y_train)  #fitting training data\n",
        "y_pred  = logreg.predict(x_test)    #testing model’s performance\n",
        "print(\"Accuracy={:.2f}\".format(logreg.score(x_test, y_test)))"
      ],
      "execution_count": 69,
      "outputs": [
        {
          "output_type": "stream",
          "text": [
            "Accuracy=0.68\n"
          ],
          "name": "stdout"
        }
      ]
    },
    {
      "cell_type": "code",
      "metadata": {
        "id": "lBnD6cDwYdCG",
        "colab_type": "code",
        "colab": {
          "base_uri": "https://localhost:8080/",
          "height": 85
        },
        "outputId": "6916956a-c126-4586-aa57-b7b11e938a4f"
      },
      "source": [
        "from sklearn.model_selection import train_test_split\n",
        "from sklearn.linear_model import LinearRegression\n",
        "from sklearn.metrics import mean_squared_error\n",
        "from sklearn import metrics\n",
        "\n",
        "x_train, x_test, y_train, y_test = train_test_split(x, y, test_size = .20, random_state = 42)\n",
        "\n",
        "logreg = LogisticRegression()\n",
        "logreg.fit(x_train, y_train)\n",
        "\n",
        "y_pred = logreg.predict(x_test)\n",
        "\n",
        "acc_log = round(logreg.score(x_train, y_train) * 100, 2)\n",
        "\n",
        "\n",
        "\n",
        "confusion_matrix = pd.crosstab(y_test,y_pred, rownames=['Name'], colnames=['Survived'])\n",
        "print( confusion_matrix)"
      ],
      "execution_count": 79,
      "outputs": [
        {
          "output_type": "stream",
          "text": [
            "Survived   No  Yes\n",
            "Name              \n",
            "No        105    9\n",
            "Yes        41   24\n"
          ],
          "name": "stdout"
        }
      ]
    },
    {
      "cell_type": "code",
      "metadata": {
        "id": "FiTXqjluZCHT",
        "colab_type": "code",
        "colab": {
          "base_uri": "https://localhost:8080/",
          "height": 170
        },
        "outputId": "323dd08c-a349-4729-9b77-1dba04fecaf8"
      },
      "source": [
        "from sklearn.metrics import classification_report\n",
        "print(classification_report(y_test,y_pred))"
      ],
      "execution_count": 80,
      "outputs": [
        {
          "output_type": "stream",
          "text": [
            "              precision    recall  f1-score   support\n",
            "\n",
            "          No       0.72      0.92      0.81       114\n",
            "         Yes       0.73      0.37      0.49        65\n",
            "\n",
            "    accuracy                           0.72       179\n",
            "   macro avg       0.72      0.65      0.65       179\n",
            "weighted avg       0.72      0.72      0.69       179\n",
            "\n"
          ],
          "name": "stdout"
        }
      ]
    },
    {
      "cell_type": "markdown",
      "metadata": {
        "id": "w56Y2vXEFocd",
        "colab_type": "text"
      },
      "source": [
        "**ROC AUC Curve** :\n",
        "Another way to evaluate and compare the binary classifier is provided by the ROC AUC Curve. This curve plots the true positive rate (also called recall) against the false positive rate (ratio of incorrectly classified negative instances), instead of plotting the precision versus the recall."
      ]
    },
    {
      "cell_type": "code",
      "metadata": {
        "id": "tgXQpT_HPhdA",
        "colab_type": "code",
        "colab": {}
      },
      "source": [
        ""
      ],
      "execution_count": null,
      "outputs": []
    }
  ]
}