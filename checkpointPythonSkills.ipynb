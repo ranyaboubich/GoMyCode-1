{
  "nbformat": 4,
  "nbformat_minor": 0,
  "metadata": {
    "colab": {
      "name": "checkpointPythonSkills.ipynb",
      "provenance": [],
      "collapsed_sections": []
    },
    "kernelspec": {
      "name": "python3",
      "display_name": "Python 3"
    }
  },
  "cells": [
    {
      "cell_type": "markdown",
      "metadata": {
        "id": "jGm0n_NFumoB",
        "colab_type": "text"
      },
      "source": [
        ""
      ]
    },
    {
      "cell_type": "markdown",
      "metadata": {
        "id": "SfGghOdZupWB",
        "colab_type": "text"
      },
      "source": [
        "Question 1"
      ]
    },
    {
      "cell_type": "code",
      "metadata": {
        "id": "jXwZLcnyX8UO",
        "colab_type": "code",
        "colab": {
          "base_uri": "https://localhost:8080/",
          "height": 54
        },
        "outputId": "f2b39e0f-822e-4dc1-c4e6-6deb9995dd41"
      },
      "source": [
        "list = [ x for x in range(2000,3200) if x % 7 == 0 and x % 5 != 0]\n",
        "print(list)"
      ],
      "execution_count": null,
      "outputs": [
        {
          "output_type": "stream",
          "text": [
            "[2002, 2009, 2016, 2023, 2037, 2044, 2051, 2058, 2072, 2079, 2086, 2093, 2107, 2114, 2121, 2128, 2142, 2149, 2156, 2163, 2177, 2184, 2191, 2198, 2212, 2219, 2226, 2233, 2247, 2254, 2261, 2268, 2282, 2289, 2296, 2303, 2317, 2324, 2331, 2338, 2352, 2359, 2366, 2373, 2387, 2394, 2401, 2408, 2422, 2429, 2436, 2443, 2457, 2464, 2471, 2478, 2492, 2499, 2506, 2513, 2527, 2534, 2541, 2548, 2562, 2569, 2576, 2583, 2597, 2604, 2611, 2618, 2632, 2639, 2646, 2653, 2667, 2674, 2681, 2688, 2702, 2709, 2716, 2723, 2737, 2744, 2751, 2758, 2772, 2779, 2786, 2793, 2807, 2814, 2821, 2828, 2842, 2849, 2856, 2863, 2877, 2884, 2891, 2898, 2912, 2919, 2926, 2933, 2947, 2954, 2961, 2968, 2982, 2989, 2996, 3003, 3017, 3024, 3031, 3038, 3052, 3059, 3066, 3073, 3087, 3094, 3101, 3108, 3122, 3129, 3136, 3143, 3157, 3164, 3171, 3178, 3192, 3199]\n"
          ],
          "name": "stdout"
        }
      ]
    },
    {
      "cell_type": "markdown",
      "metadata": {
        "id": "bWD4e8LUukqj",
        "colab_type": "text"
      },
      "source": [
        "Question 2"
      ]
    },
    {
      "cell_type": "code",
      "metadata": {
        "id": "duAkWPaObS0Q",
        "colab_type": "code",
        "colab": {
          "base_uri": "https://localhost:8080/",
          "height": 68
        },
        "outputId": "29113892-2790-4ee8-82b8-3f2562016eba"
      },
      "source": [
        "factorial = lambda x: x and x * factorial(x - 1) or 1\n",
        "print(\"Give a number\")\n",
        "x=input()\n",
        "print(factorial(int(x)))\n"
      ],
      "execution_count": 32,
      "outputs": [
        {
          "output_type": "stream",
          "text": [
            "Give a number\n",
            "8\n",
            "40320\n"
          ],
          "name": "stdout"
        }
      ]
    },
    {
      "cell_type": "markdown",
      "metadata": {
        "id": "mCUV65Ouuiai",
        "colab_type": "text"
      },
      "source": [
        "Question 3"
      ]
    },
    {
      "cell_type": "code",
      "metadata": {
        "id": "MKOpSgS-bvik",
        "colab_type": "code",
        "colab": {
          "base_uri": "https://localhost:8080/",
          "height": 50
        },
        "outputId": "a3af870d-5c87-4787-a6f1-eac70a187e80"
      },
      "source": [
        "n=int(input(\"Give a number \"))\n",
        "d = dict()\n",
        "\n",
        "for x in range(1,n+1):\n",
        "    d[x]=x*x\n",
        "\n",
        "print(d) \n"
      ],
      "execution_count": null,
      "outputs": [
        {
          "output_type": "stream",
          "text": [
            "Input a number 8\n",
            "{1: 1, 2: 4, 3: 9, 4: 16, 5: 25, 6: 36, 7: 49, 8: 64}\n"
          ],
          "name": "stdout"
        }
      ]
    },
    {
      "cell_type": "markdown",
      "metadata": {
        "id": "pHTvkq3pufqi",
        "colab_type": "text"
      },
      "source": [
        "Question 4\n"
      ]
    },
    {
      "cell_type": "code",
      "metadata": {
        "id": "388LzoSUXtQY",
        "colab_type": "code",
        "colab": {
          "base_uri": "https://localhost:8080/",
          "height": 68
        },
        "outputId": "97a8359e-d47f-453c-9b2d-8cb1c1d3e2db"
      },
      "source": [
        "str=(input(\"Give a non empty string :\"))\n",
        "n=int(input(\"Give an integer :\"))\n",
        "front  = str[:n] \n",
        "back = str[n+1:]  \n",
        "print(front + back)\n",
        " "
      ],
      "execution_count": 33,
      "outputs": [
        {
          "output_type": "stream",
          "text": [
            "Give a non empty string :kitten\n",
            "Give an integer :1\n",
            "ktten\n"
          ],
          "name": "stdout"
        }
      ]
    },
    {
      "cell_type": "markdown",
      "metadata": {
        "id": "3wqzGOwtuakH",
        "colab_type": "text"
      },
      "source": [
        "Question 5"
      ]
    },
    {
      "cell_type": "code",
      "metadata": {
        "id": "23lW_3uddIFm",
        "colab_type": "code",
        "colab": {
          "base_uri": "https://localhost:8080/",
          "height": 119
        },
        "outputId": "b8753e48-74c1-45b0-b9ca-e40f61a7ff18"
      },
      "source": [
        "import numpy as np\n",
        "x= np.arange(6).reshape(3, 2)\n",
        "print(\"original array elements:\")\n",
        "print(x)\n",
        "print(\"array to list:\")\n",
        "print(x.tolist())\n",
        "\n",
        "\n"
      ],
      "execution_count": 34,
      "outputs": [
        {
          "output_type": "stream",
          "text": [
            "original array elements:\n",
            "[[0 1]\n",
            " [2 3]\n",
            " [4 5]]\n",
            "array to list:\n",
            "[[0, 1], [2, 3], [4, 5]]\n"
          ],
          "name": "stdout"
        }
      ]
    },
    {
      "cell_type": "markdown",
      "metadata": {
        "id": "1J591jlHuWjE",
        "colab_type": "text"
      },
      "source": [
        "Question 6"
      ]
    },
    {
      "cell_type": "code",
      "metadata": {
        "id": "VNyws_PsvoDk",
        "colab_type": "code",
        "colab": {
          "base_uri": "https://localhost:8080/",
          "height": 119
        },
        "outputId": "3dde77e7-4a60-4084-8947-9eb49079643c"
      },
      "source": [
        "import numpy as np\n",
        "x = np.array([0, 1, 2])\n",
        "y = np.array([2, 1, 0])\n",
        "print(\"Original array1:\")\n",
        "print(x)\n",
        "print(\"Original array2:\")\n",
        "print(y)\n",
        "print(\"Covariance matrix of the said arrays\",np.cov(x, y))\n"
      ],
      "execution_count": 20,
      "outputs": [
        {
          "output_type": "stream",
          "text": [
            "Original array1:\n",
            "[0 1 2]\n",
            "Original array2:\n",
            "[2 1 0]\n",
            "Covariance matrix of the said arrays [[ 1. -1.]\n",
            " [-1.  1.]]\n"
          ],
          "name": "stdout"
        }
      ]
    },
    {
      "cell_type": "markdown",
      "metadata": {
        "id": "DjFSEo3IjcKD",
        "colab_type": "text"
      },
      "source": [
        "Question 7\n",
        "\n"
      ]
    },
    {
      "cell_type": "code",
      "metadata": {
        "id": "DqArosKZIZS_",
        "colab_type": "code",
        "colab": {
          "base_uri": "https://localhost:8080/",
          "height": 68
        },
        "outputId": "ad703bdf-9a8b-469e-c375-f7593ec960d3"
      },
      "source": [
        "import math \n",
        "s=[]\n",
        "function= lambda h : math.sqrt((2*50*h)/30)\n",
        "print(\"Enter comma separated integers:\")\n",
        "ch= input()\n",
        "l=ch.split(\",\")\n",
        "for i in l:\n",
        "  s.append(round(function(int(i))))\n",
        "print(s)\n",
        "\n",
        "\n",
        "\n"
      ],
      "execution_count": 31,
      "outputs": [
        {
          "output_type": "stream",
          "text": [
            "Enter comma separated integers:\n",
            "100,150,180\n",
            "[18, 22, 24]\n"
          ],
          "name": "stdout"
        }
      ]
    },
    {
      "cell_type": "code",
      "metadata": {
        "id": "d52BBcWWfCTE",
        "colab_type": "code",
        "colab": {}
      },
      "source": [
        ""
      ],
      "execution_count": null,
      "outputs": []
    }
  ]
}